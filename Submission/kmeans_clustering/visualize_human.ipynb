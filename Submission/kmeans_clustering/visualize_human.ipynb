{
 "cells": [
  {
   "cell_type": "code",
   "execution_count": 1,
   "metadata": {},
   "outputs": [],
   "source": [
    "import yaml\n",
    "import numpy as np\n",
    "from numpy.typing import NDArray\n",
    "import matplotlib.pyplot as plt\n",
    "from matplotlib.figure import Figure\n",
    "from tqdm import tqdm\n",
    "\n",
    "from eda import git_root"
   ]
  },
  {
   "cell_type": "code",
   "execution_count": 2,
   "metadata": {},
   "outputs": [],
   "source": [
    "from pathlib import Path\n",
    "import numpy as np\n",
    "from numpy.typing import NDArray\n",
    "import matplotlib.pyplot as plt\n",
    "from matplotlib.figure import Figure\n",
    "from skimage import img_as_ubyte\n",
    "from skimage.io import imsave\n",
    "\n",
    "\n",
    "def overlay_clusters(\n",
    "    cropped: NDArray[np.floating],\n",
    "    klabels: NDArray[np.integer],\n",
    "    n_clusters: int,\n",
    "    ncols: int = 5,\n",
    "    figsize=(12, 12),\n",
    ") -> Figure:\n",
    "    \"\"\"Overlay original and cluster image.\n",
    "\n",
    "    Parameters\n",
    "    ----------\n",
    "    cropped : NDArray[np.floating]\n",
    "    klabels : NDArray[np.integer]\n",
    "    n_clusters : int\n",
    "    ncols : int, optional\n",
    "        by default 5\n",
    "    figsize : tuple, optional\n",
    "        by default (12, 12)\n",
    "\n",
    "    Returns\n",
    "    -------\n",
    "    Figure\n",
    "    \"\"\"\n",
    "    nrows = np.ceil(n_clusters / ncols).astype(int)\n",
    "    fig, axes = plt.subplots(nrows, ncols, figsize=figsize)\n",
    "    axes = axes.ravel()\n",
    "\n",
    "    for k in range(n_clusters):\n",
    "        canvas = cropped.copy()\n",
    "        mask = klabels == k + 1\n",
    "        \n",
    "        # fill with yellow\n",
    "        canvas[mask, 0] = np.iinfo(cropped.dtype).max\n",
    "        canvas[mask, 1] = np.iinfo(cropped.dtype).max\n",
    "\n",
    "        axes[k].imshow(canvas)\n",
    "        axes[k].set_axis_off()\n",
    "        axes[k].set_title(f\"label={k + 1}\")\n",
    "    return fig\n",
    "\n",
    "\n",
    "def save_overlay(\n",
    "    cropped: NDArray[np.floating],\n",
    "    klabels: NDArray[np.integer],\n",
    "    n_clusters: int,\n",
    "    output_dir: Path,\n",
    "    suffix: str\n",
    ") -> None:\n",
    "    \"\"\"Overlay original and cluster image.\n",
    "\n",
    "    Parameters\n",
    "    ----------\n",
    "    cropped : NDArray[np.floating]\n",
    "    klabels : NDArray[np.integer]\n",
    "    n_clusters : int\n",
    "    \"\"\"\n",
    "    for k in range(n_clusters):\n",
    "        canvas = cropped.copy()\n",
    "        mask = klabels == k + 1\n",
    "        \n",
    "        # fill with yellow\n",
    "        canvas[mask, 0] = np.iinfo(cropped.dtype).max\n",
    "        canvas[mask, 1] = np.iinfo(cropped.dtype).max\n",
    "        imsave(output_dir / f\"overlay_{suffix}_{k + 1}.png\", img_as_ubyte(canvas))"
   ]
  },
  {
   "cell_type": "code",
   "execution_count": 3,
   "metadata": {},
   "outputs": [],
   "source": [
    "ROOT = git_root(absolute=True)\n",
    "\n",
    "cfg_path = ROOT / \"Submission/kmeans_clustering/config/models/predict_human.yaml\"\n",
    "with open(cfg_path, mode=\"r\") as f:\n",
    "    cfg = yaml.safe_load(f)\n",
    "\n",
    "cropped_dir = ROOT / cfg[\"data\"][\"INPUT_DIR\"]\n",
    "klabels_dir = ROOT / cfg[\"data\"][\"OUTPUT_DIR\"]"
   ]
  },
  {
   "cell_type": "code",
   "execution_count": 4,
   "metadata": {},
   "outputs": [
    {
     "name": "stdout",
     "output_type": "stream",
     "text": [
      "[PosixPath('/work/data/submission/clustering/human/3_7'), PosixPath('/work/data/submission/clustering/human/3_10'), PosixPath('/work/data/submission/clustering/human/3_15'), PosixPath('/work/data/submission/clustering/human/4_7'), PosixPath('/work/data/submission/clustering/human/4_10'), PosixPath('/work/data/submission/clustering/human/4_15'), PosixPath('/work/data/submission/clustering/human/5_7'), PosixPath('/work/data/submission/clustering/human/5_10'), PosixPath('/work/data/submission/clustering/human/5_15'), PosixPath('/work/data/submission/clustering/human/6_20')]\n"
     ]
    }
   ],
   "source": [
    "paths_sigmas = list(klabels_dir.glob(\"*\"))\n",
    "print(paths_sigmas)"
   ]
  },
  {
   "cell_type": "code",
   "execution_count": 5,
   "metadata": {},
   "outputs": [
    {
     "name": "stderr",
     "output_type": "stream",
     "text": [
      "100%|██████████| 90/90 [56:55<00:00, 37.95s/it]\n"
     ]
    }
   ],
   "source": [
    "path_sigma = klabels_dir / \"3_7\"\n",
    "paths_tissue = list(path_sigma.glob(\"klabels*.npy\"))\n",
    "\n",
    "for path_tissue in tqdm(paths_tissue, total=len(paths_tissue)):\n",
    "    tissue_id = int(path_tissue.stem.split(\"_\")[-1])\n",
    "    path_cropped = list(cropped_dir.glob(f\"cropped_{tissue_id}.npy\"))[0]\n",
    "\n",
    "    cropped = np.load(path_cropped, allow_pickle=True)\n",
    "    klabels = np.load(path_tissue, allow_pickle=True)\n",
    "\n",
    "    # plot\n",
    "    fig = overlay_clusters(cropped, klabels, 30, 5, (16, 24))\n",
    "    fig.suptitle(path_tissue)\n",
    "    fig.savefig(path_sigma / f\"klabels_{tissue_id}.png\")\n",
    "    plt.clf()\n",
    "    plt.close(\"all\")\n",
    "\n",
    "    # save\n",
    "    save_overlay(cropped, klabels, 30, path_sigma, str(tissue_id))"
   ]
  },
  {
   "cell_type": "code",
   "execution_count": null,
   "metadata": {},
   "outputs": [],
   "source": []
  }
 ],
 "metadata": {
  "kernelspec": {
   "display_name": "Python 3 (ipykernel)",
   "language": "python",
   "name": "python3"
  },
  "language_info": {
   "codemirror_mode": {
    "name": "ipython",
    "version": 3
   },
   "file_extension": ".py",
   "mimetype": "text/x-python",
   "name": "python",
   "nbconvert_exporter": "python",
   "pygments_lexer": "ipython3",
   "version": "3.8.6"
  },
  "vscode": {
   "interpreter": {
    "hash": "aee8b7b246df8f9039afb4144a1f6fd8d2ca17a180786b69acc140d282b71a49"
   }
  }
 },
 "nbformat": 4,
 "nbformat_minor": 4
}
